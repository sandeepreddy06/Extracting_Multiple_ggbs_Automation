{
 "cells": [
  {
   "cell_type": "code",
   "execution_count": null,
   "id": "interesting-trustee",
   "metadata": {},
   "outputs": [],
   "source": [
    "import os\n",
    "import shutil\n",
    "from itertools import chain\n",
    "from zipfile import ZipFile\n",
    "import zipfile\n",
    "\n",
    "\n",
    "def find_E_files(path):\n",
    "    x = os.listdir(path)\n",
    "    print(x)\n",
    "    for files in x:\n",
    "        if files.endswith(\".ggb\"):\n",
    "            print(files)\n",
    "            with ZipFile(path+files, 'r') as zipObj:\n",
    "                zipObj.extractall(path+\"E_\"+files+\"\\\\\")\n",
    "    print(\"---------------x Extraction Process Completed x----------------\")"
   ]
  },
  {
   "cell_type": "code",
   "execution_count": null,
   "id": "variable-bulgarian",
   "metadata": {},
   "outputs": [],
   "source": [
    "find_E_files(\"C:/Users/sandy/Documents/ggb/\")"
   ]
  },
  {
   "cell_type": "code",
   "execution_count": null,
   "id": "aboriginal-melbourne",
   "metadata": {},
   "outputs": [],
   "source": [
    "import os\n",
    "import shutil\n",
    "import string\n",
    "y=[]\n",
    "def extract_files(path):\n",
    "    os.mkdir(path+\"New/\", mode=0o777,dir_fd=None)\n",
    "    f=os.listdir(path)\n",
    "    for fil in f:\n",
    "        if fil.startswith(\"E\"):\n",
    "            y=[fil]\n",
    "            for x in y:\n",
    "                os.mkdir(path+\"New/\"+x+\"/\", mode=0o777,dir_fd=None)\n",
    "                MAIN=path+\"New/\"+x+\"/\"\n",
    "                DIRS=path+fil\n",
    "                print(DIRS)\n",
    "                for root, subdirs, files in os.walk(DIRS):\n",
    "                    for file in files:\n",
    "                        print(file)\n",
    "                        paths = os.path.join(root, file)\n",
    "                        print(paths)\n",
    "                        shutil.copy(paths, MAIN)\n",
    "            \n",
    "    print(\"---------------x Extraction Completed x----------------\")"
   ]
  },
  {
   "cell_type": "code",
   "execution_count": null,
   "id": "contemporary-ability",
   "metadata": {},
   "outputs": [],
   "source": [
    "extract_files(\"C:/Users/sandy/Documents/ggb/\")"
   ]
  },
  {
   "cell_type": "code",
   "execution_count": null,
   "id": "digital-investment",
   "metadata": {},
   "outputs": [],
   "source": []
  }
 ],
 "metadata": {
  "kernelspec": {
   "display_name": "Python 3",
   "language": "python",
   "name": "python3"
  },
  "language_info": {
   "codemirror_mode": {
    "name": "ipython",
    "version": 3
   },
   "file_extension": ".py",
   "mimetype": "text/x-python",
   "name": "python",
   "nbconvert_exporter": "python",
   "pygments_lexer": "ipython3",
   "version": "3.9.0"
  }
 },
 "nbformat": 4,
 "nbformat_minor": 5
}
